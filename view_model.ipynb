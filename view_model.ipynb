{
 "cells": [
  {
   "cell_type": "code",
   "execution_count": 69,
   "metadata": {},
   "outputs": [],
   "source": [
    "import os\n",
    "import math\n",
    "\n",
    "import numpy as np\n",
    "import pandas as pd\n",
    "import matplotlib.pyplot as plt\n",
    "\n",
    "import tensorflow as tf\n",
    "from tensorflow.python.keras.api import keras\n",
    "\n",
    "from hpcscripts.sharedutils.trainingutils import LoadModel, SetLowTFVerbose, MakeSinglePrediction\n",
    "from hpcscripts.sharedutils.nomalization import DF_Nomalize, denorm\n",
    "from hpcscripts.sharedutils.modelutils import SelectModelPrompt\n",
    "from hpcscripts.option import pathhandler as ph\n",
    "from hpcscripts.option import globalparams as G_PARAMS"
   ]
  },
  {
   "cell_type": "code",
   "execution_count": 70,
   "metadata": {},
   "outputs": [],
   "source": [
    "# Get Training Data to calculate norm param\n",
    "train_file = os.path.join(ph.GetProcessedPath(\"Ready\"), \"Train_set.csv\")\n",
    "train_data, NORM_PARAM = DF_Nomalize(pd.read_csv(train_file))\n",
    "\n",
    "# Make TensorFlow Quiet\n",
    "SetLowTFVerbose()\n",
    "\n",
    "# rad2deg\n",
    "rad2deg = 180 / math.pi\n",
    "\n",
    "labels = G_PARAMS.SEQUENTIAL_LABELS"
   ]
  },
  {
   "cell_type": "code",
   "execution_count": 71,
   "metadata": {},
   "outputs": [],
   "source": [
    "def ShowPrediction(filename: str, model):\n",
    "    file_path = os.path.join (ph.GetProcessedPath(\"Test\"), filename)\n",
    "    test_df, predictions = MakeSinglePrediction(file_path, model, labels, NORM_PARAM)\n",
    "\n",
    "    for i, label in enumerate(labels):\n",
    "        z, s = NORM_PARAM[label]\n",
    "        zt,st= NORM_PARAM[\"time_s\"]\n",
    "\n",
    "        denormed_time  = denorm(test_df[\"time_s\"].to_numpy(), zt, st)\n",
    "        denormed_label = denorm(test_df[label], z, s)\n",
    "        denormed_pred  = denorm(predictions[i], z, s)\n",
    "\n",
    "        if (label.endswith(\"rad\")):\n",
    "            denormed_pred = denormed_pred * rad2deg\n",
    "            denormed_label= denormed_label* rad2deg\n",
    "\n",
    "        plt.plot(denormed_time, denormed_label)\n",
    "        plt.plot(denormed_time, denormed_pred)\n",
    "\n",
    "        print (\"timespan: {}\".format(denormed_time[-1] - denormed_time[0]))\n",
    "        print (\"mae: {}\".format(keras.metrics.mean_absolute_error(denormed_label, denormed_pred)))\n",
    "\n",
    "        plt.legend([\"real\", \"prediction\"])\n",
    "        plt.xlabel(label.removesuffix(\"rad\")+\"deg\" if label.endswith(\"rad\") else label)\n",
    "        plt.show()"
   ]
  },
  {
   "cell_type": "markdown",
   "metadata": {},
   "source": [
    "## Importing Model"
   ]
  },
  {
   "cell_type": "code",
   "execution_count": 75,
   "metadata": {},
   "outputs": [
    {
     "name": "stdout",
     "output_type": "stream",
     "text": [
      "Found 3 models inside /home/ikhwansh/Datas/Cool Yeah/TeA/HPC_Scripts/Data/Models:\n",
      "index \tModel-name\n",
      "  [0]. \tANN 2022-04-06 06:35:28\n",
      "  [1]. \tANN 2022-04-13 11:00:28\n",
      "  [2]. \tANN 2022-04-06 06:23:17\n",
      "You selected model ANN 2022-04-13 11:00:28\n",
      "\n",
      "model loaded\n",
      "model history loaded\n",
      "model_history keys: dict_keys(['loss', 'mean_squared_error', 'mean_absolute_error', 'val_loss', 'val_mean_squared_error', 'val_mean_absolute_error'])\n"
     ]
    }
   ],
   "source": [
    "model_dir = ph.GetModelsPath()\n",
    "model_dir = SelectModelPrompt(model_dir)\n",
    "\n",
    "print ()\n",
    "model, model_history = LoadModel(model_dir)\n",
    "\n",
    "epochs = [a+1 for a in range(len(model_history['loss']))]\n",
    "print (\"model_history keys: {}\".format(model_history.keys()))"
   ]
  },
  {
   "cell_type": "code",
   "execution_count": 77,
   "metadata": {},
   "outputs": [
    {
     "data": {
      "image/png": "[encoded data removed]",
      "text/plain": [
       "<Figure size 432x288 with 1 Axes>"
      ]
     },
     "metadata": {
      "needs_background": "light"
     },
     "output_type": "display_data"
    }
   ],
   "source": [
    "metric = 'mean_absolute_error'\n",
    "plt.plot(epochs, model_history[metric])\n",
    "plt.plot(epochs, model_history['val_{}'.format(metric)])\n",
    "plt.legend(['loss', 'val_{}'.format(metric)])\n",
    "plt.show()"
   ]
  },
  {
   "cell_type": "markdown",
   "metadata": {},
   "source": [
    "## Making Few Predictions"
   ]
  },
  {
   "cell_type": "code",
   "execution_count": null,
   "metadata": {},
   "outputs": [],
   "source": []
  },
  {
   "cell_type": "markdown",
   "metadata": {},
   "source": [
    "## R2 Results"
   ]
  },
  {
   "cell_type": "code",
   "execution_count": 7,
   "metadata": {},
   "outputs": [
    {
     "data": {
      "text/html": [
       "<div>\n",
       "<style scoped>\n",
       "    .dataframe tbody tr th:only-of-type {\n",
       "        vertical-align: middle;\n",
       "    }\n",
       "\n",
       "    .dataframe tbody tr th {\n",
       "        vertical-align: top;\n",
       "    }\n",
       "\n",
       "    .dataframe thead th {\n",
       "        text-align: right;\n",
       "    }\n",
       "</style>\n",
       "<table border=\"1\" class=\"dataframe\">\n",
       "  <thead>\n",
       "    <tr style=\"text-align: right;\">\n",
       "      <th></th>\n",
       "      <th>elv_l_rad</th>\n",
       "    </tr>\n",
       "  </thead>\n",
       "  <tbody>\n",
       "    <tr>\n",
       "      <th>count</th>\n",
       "      <td>131.000000</td>\n",
       "    </tr>\n",
       "    <tr>\n",
       "      <th>mean</th>\n",
       "      <td>-2.550926</td>\n",
       "    </tr>\n",
       "    <tr>\n",
       "      <th>std</th>\n",
       "      <td>8.997959</td>\n",
       "    </tr>\n",
       "    <tr>\n",
       "      <th>min</th>\n",
       "      <td>-91.389529</td>\n",
       "    </tr>\n",
       "    <tr>\n",
       "      <th>25%</th>\n",
       "      <td>-2.064736</td>\n",
       "    </tr>\n",
       "    <tr>\n",
       "      <th>50%</th>\n",
       "      <td>-0.563343</td>\n",
       "    </tr>\n",
       "    <tr>\n",
       "      <th>75%</th>\n",
       "      <td>0.331818</td>\n",
       "    </tr>\n",
       "    <tr>\n",
       "      <th>max</th>\n",
       "      <td>0.854656</td>\n",
       "    </tr>\n",
       "  </tbody>\n",
       "</table>\n",
       "</div>"
      ],
      "text/plain": [
       "        elv_l_rad\n",
       "count  131.000000\n",
       "mean    -2.550926\n",
       "std      8.997959\n",
       "min    -91.389529\n",
       "25%     -2.064736\n",
       "50%     -0.563343\n",
       "75%      0.331818\n",
       "max      0.854656"
      ]
     },
     "execution_count": 7,
     "metadata": {},
     "output_type": "execute_result"
    }
   ],
   "source": [
    "# Check r2 results\n",
    "r2csv_path = os.path.join(model_dir, \"r2.csv\")\n",
    "if not os.path.exists(r2csv_path):\n",
    "    exit()\n",
    "\n",
    "r2_df = pd.read_csv(r2csv_path)\n",
    "\n",
    "r2_df.describe()\n",
    "#r2_df.head()"
   ]
  },
  {
   "cell_type": "code",
   "execution_count": 40,
   "metadata": {},
   "outputs": [
    {
     "data": {
      "text/html": [
       "<div>\n",
       "<style scoped>\n",
       "    .dataframe tbody tr th:only-of-type {\n",
       "        vertical-align: middle;\n",
       "    }\n",
       "\n",
       "    .dataframe tbody tr th {\n",
       "        vertical-align: top;\n",
       "    }\n",
       "\n",
       "    .dataframe thead th {\n",
       "        text-align: right;\n",
       "    }\n",
       "</style>\n",
       "<table border=\"1\" class=\"dataframe\">\n",
       "  <thead>\n",
       "    <tr style=\"text-align: right;\">\n",
       "      <th></th>\n",
       "      <th>filename</th>\n",
       "      <th>elv_l_rad</th>\n",
       "    </tr>\n",
       "  </thead>\n",
       "  <tbody>\n",
       "    <tr>\n",
       "      <th>59</th>\n",
       "      <td>flight_16486.csv</td>\n",
       "      <td>0.854656</td>\n",
       "    </tr>\n",
       "    <tr>\n",
       "      <th>30</th>\n",
       "      <td>flight_30791.csv</td>\n",
       "      <td>0.820723</td>\n",
       "    </tr>\n",
       "    <tr>\n",
       "      <th>98</th>\n",
       "      <td>flight_36285.csv</td>\n",
       "      <td>0.814484</td>\n",
       "    </tr>\n",
       "    <tr>\n",
       "      <th>125</th>\n",
       "      <td>flight_34487.csv</td>\n",
       "      <td>0.769912</td>\n",
       "    </tr>\n",
       "    <tr>\n",
       "      <th>53</th>\n",
       "      <td>flight_34315.csv</td>\n",
       "      <td>0.766234</td>\n",
       "    </tr>\n",
       "    <tr>\n",
       "      <th>92</th>\n",
       "      <td>flight_31636.csv</td>\n",
       "      <td>0.747887</td>\n",
       "    </tr>\n",
       "    <tr>\n",
       "      <th>71</th>\n",
       "      <td>flight_20088.csv</td>\n",
       "      <td>0.715604</td>\n",
       "    </tr>\n",
       "    <tr>\n",
       "      <th>11</th>\n",
       "      <td>flight_35320.csv</td>\n",
       "      <td>0.683027</td>\n",
       "    </tr>\n",
       "    <tr>\n",
       "      <th>36</th>\n",
       "      <td>flight_30568.csv</td>\n",
       "      <td>0.676803</td>\n",
       "    </tr>\n",
       "    <tr>\n",
       "      <th>86</th>\n",
       "      <td>flight_19154.csv</td>\n",
       "      <td>0.673022</td>\n",
       "    </tr>\n",
       "  </tbody>\n",
       "</table>\n",
       "</div>"
      ],
      "text/plain": [
       "             filename  elv_l_rad\n",
       "59   flight_16486.csv   0.854656\n",
       "30   flight_30791.csv   0.820723\n",
       "98   flight_36285.csv   0.814484\n",
       "125  flight_34487.csv   0.769912\n",
       "53   flight_34315.csv   0.766234\n",
       "92   flight_31636.csv   0.747887\n",
       "71   flight_20088.csv   0.715604\n",
       "11   flight_35320.csv   0.683027\n",
       "36   flight_30568.csv   0.676803\n",
       "86   flight_19154.csv   0.673022"
      ]
     },
     "execution_count": 40,
     "metadata": {},
     "output_type": "execute_result"
    }
   ],
   "source": [
    "r2_df.nlargest(10, columns=labels)"
   ]
  },
  {
   "cell_type": "code",
   "execution_count": 49,
   "metadata": {},
   "outputs": [
    {
     "data": {
      "text/html": [
       "<div>\n",
       "<style scoped>\n",
       "    .dataframe tbody tr th:only-of-type {\n",
       "        vertical-align: middle;\n",
       "    }\n",
       "\n",
       "    .dataframe tbody tr th {\n",
       "        vertical-align: top;\n",
       "    }\n",
       "\n",
       "    .dataframe thead th {\n",
       "        text-align: right;\n",
       "    }\n",
       "</style>\n",
       "<table border=\"1\" class=\"dataframe\">\n",
       "  <thead>\n",
       "    <tr style=\"text-align: right;\">\n",
       "      <th></th>\n",
       "      <th>filename</th>\n",
       "      <th>elv_l_rad</th>\n",
       "    </tr>\n",
       "  </thead>\n",
       "  <tbody>\n",
       "    <tr>\n",
       "      <th>127</th>\n",
       "      <td>flight_36060.csv</td>\n",
       "      <td>-91.389529</td>\n",
       "    </tr>\n",
       "    <tr>\n",
       "      <th>121</th>\n",
       "      <td>flight_13279.csv</td>\n",
       "      <td>-26.369345</td>\n",
       "    </tr>\n",
       "    <tr>\n",
       "      <th>99</th>\n",
       "      <td>flight_32717.csv</td>\n",
       "      <td>-26.259013</td>\n",
       "    </tr>\n",
       "    <tr>\n",
       "      <th>2</th>\n",
       "      <td>flight_40943.csv</td>\n",
       "      <td>-18.769950</td>\n",
       "    </tr>\n",
       "    <tr>\n",
       "      <th>128</th>\n",
       "      <td>flight_28587.csv</td>\n",
       "      <td>-17.248341</td>\n",
       "    </tr>\n",
       "    <tr>\n",
       "      <th>61</th>\n",
       "      <td>flight_32685.csv</td>\n",
       "      <td>-13.313495</td>\n",
       "    </tr>\n",
       "    <tr>\n",
       "      <th>75</th>\n",
       "      <td>flight_16365.csv</td>\n",
       "      <td>-12.169917</td>\n",
       "    </tr>\n",
       "    <tr>\n",
       "      <th>109</th>\n",
       "      <td>flight_24420.csv</td>\n",
       "      <td>-10.926294</td>\n",
       "    </tr>\n",
       "    <tr>\n",
       "      <th>116</th>\n",
       "      <td>flight_39366.csv</td>\n",
       "      <td>-8.459191</td>\n",
       "    </tr>\n",
       "    <tr>\n",
       "      <th>25</th>\n",
       "      <td>flight_28940.csv</td>\n",
       "      <td>-8.018904</td>\n",
       "    </tr>\n",
       "    <tr>\n",
       "      <th>22</th>\n",
       "      <td>flight_12200.csv</td>\n",
       "      <td>-6.793379</td>\n",
       "    </tr>\n",
       "    <tr>\n",
       "      <th>130</th>\n",
       "      <td>flight_15032.csv</td>\n",
       "      <td>-6.232887</td>\n",
       "    </tr>\n",
       "    <tr>\n",
       "      <th>6</th>\n",
       "      <td>flight_33014.csv</td>\n",
       "      <td>-6.062538</td>\n",
       "    </tr>\n",
       "    <tr>\n",
       "      <th>58</th>\n",
       "      <td>flight_39368.csv</td>\n",
       "      <td>-5.054707</td>\n",
       "    </tr>\n",
       "    <tr>\n",
       "      <th>19</th>\n",
       "      <td>flight_32633.csv</td>\n",
       "      <td>-5.022310</td>\n",
       "    </tr>\n",
       "    <tr>\n",
       "      <th>66</th>\n",
       "      <td>flight_32637.csv</td>\n",
       "      <td>-4.884248</td>\n",
       "    </tr>\n",
       "    <tr>\n",
       "      <th>103</th>\n",
       "      <td>flight_21058.csv</td>\n",
       "      <td>-4.051743</td>\n",
       "    </tr>\n",
       "    <tr>\n",
       "      <th>0</th>\n",
       "      <td>flight_12594.csv</td>\n",
       "      <td>-3.859243</td>\n",
       "    </tr>\n",
       "    <tr>\n",
       "      <th>64</th>\n",
       "      <td>flight_40113.csv</td>\n",
       "      <td>-3.848082</td>\n",
       "    </tr>\n",
       "    <tr>\n",
       "      <th>26</th>\n",
       "      <td>flight_12343.csv</td>\n",
       "      <td>-3.542903</td>\n",
       "    </tr>\n",
       "    <tr>\n",
       "      <th>85</th>\n",
       "      <td>flight_12789.csv</td>\n",
       "      <td>-3.468842</td>\n",
       "    </tr>\n",
       "    <tr>\n",
       "      <th>118</th>\n",
       "      <td>flight_27180.csv</td>\n",
       "      <td>-3.378884</td>\n",
       "    </tr>\n",
       "    <tr>\n",
       "      <th>17</th>\n",
       "      <td>flight_23067.csv</td>\n",
       "      <td>-3.331327</td>\n",
       "    </tr>\n",
       "    <tr>\n",
       "      <th>57</th>\n",
       "      <td>flight_12145.csv</td>\n",
       "      <td>-2.850443</td>\n",
       "    </tr>\n",
       "  </tbody>\n",
       "</table>\n",
       "</div>"
      ],
      "text/plain": [
       "             filename  elv_l_rad\n",
       "127  flight_36060.csv -91.389529\n",
       "121  flight_13279.csv -26.369345\n",
       "99   flight_32717.csv -26.259013\n",
       "2    flight_40943.csv -18.769950\n",
       "128  flight_28587.csv -17.248341\n",
       "61   flight_32685.csv -13.313495\n",
       "75   flight_16365.csv -12.169917\n",
       "109  flight_24420.csv -10.926294\n",
       "116  flight_39366.csv  -8.459191\n",
       "25   flight_28940.csv  -8.018904\n",
       "22   flight_12200.csv  -6.793379\n",
       "130  flight_15032.csv  -6.232887\n",
       "6    flight_33014.csv  -6.062538\n",
       "58   flight_39368.csv  -5.054707\n",
       "19   flight_32633.csv  -5.022310\n",
       "66   flight_32637.csv  -4.884248\n",
       "103  flight_21058.csv  -4.051743\n",
       "0    flight_12594.csv  -3.859243\n",
       "64   flight_40113.csv  -3.848082\n",
       "26   flight_12343.csv  -3.542903\n",
       "85   flight_12789.csv  -3.468842\n",
       "118  flight_27180.csv  -3.378884\n",
       "17   flight_23067.csv  -3.331327\n",
       "57   flight_12145.csv  -2.850443"
      ]
     },
     "execution_count": 49,
     "metadata": {},
     "output_type": "execute_result"
    }
   ],
   "source": [
    "# r2_df.loc[r2_df.iloc[:, 1] < 0]\n",
    "r2_df.nsmallest(24, columns=labels)"
   ]
  },
  {
   "cell_type": "code",
   "execution_count": 68,
   "metadata": {},
   "outputs": [
    {
     "name": "stdout",
     "output_type": "stream",
     "text": [
      "filename: flight_36060.csv\n",
      "timespan: 303.0\n",
      "mae: 8.916664123535156\n"
     ]
    },
    {
     "data": {
      "image/png": "[encoded data removed]",
      "text/plain": [
       "<Figure size 432x288 with 1 Axes>"
      ]
     },
     "metadata": {
      "needs_background": "light"
     },
     "output_type": "display_data"
    }
   ],
   "source": [
    "filename_to_predict = \"flight_36060.csv\"\n",
    "print (\"filename: {}\".format(filename_to_predict))\n",
    "ShowPrediction(filename_to_predict, model)"
   ]
  },
  {
   "cell_type": "code",
   "execution_count": 47,
   "metadata": {},
   "outputs": [
    {
     "name": "stdout",
     "output_type": "stream",
     "text": [
      "min: 52.0\n",
      "max: 439.0\n",
      "avg: 280.0458015267176\n"
     ]
    },
    {
     "data": {
      "text/plain": [
       "(array([ 2.,  2.,  3.,  0.,  1.,  3.,  3.,  2.,  2.,  2.,  3.,  3.,  2.,\n",
       "         5.,  9.,  9.,  5., 10.,  6.,  6.,  3.,  5.,  5., 10.,  7.,  9.,\n",
       "         7.,  4.,  1.,  2.]),\n",
       " array([ 52. ,  64.9,  77.8,  90.7, 103.6, 116.5, 129.4, 142.3, 155.2,\n",
       "        168.1, 181. , 193.9, 206.8, 219.7, 232.6, 245.5, 258.4, 271.3,\n",
       "        284.2, 297.1, 310. , 322.9, 335.8, 348.7, 361.6, 374.5, 387.4,\n",
       "        400.3, 413.2, 426.1, 439. ]),\n",
       " <BarContainer object of 30 artists>)"
      ]
     },
     "execution_count": 47,
     "metadata": {},
     "output_type": "execute_result"
    },
    {
     "data": {
      "image/png": "[encoded data removed]",
      "text/plain": [
       "<Figure size 432x288 with 1 Axes>"
      ]
     },
     "metadata": {
      "needs_background": "light"
     },
     "output_type": "display_data"
    }
   ],
   "source": [
    "timespans = []\n",
    "test_dir = ph.GetProcessedPath(\"Test\")\n",
    "dir_list = os.listdir(test_dir)\n",
    "for filename in dir_list:\n",
    "    filepath = os.path.join(test_dir, filename)\n",
    "    _df = pd.read_csv(filepath)\n",
    "\n",
    "    timespans.append(_df.loc[_df.shape[0]-1,\"time_s\"] - _df.loc[0,\"time_s\"])\n",
    "\n",
    "print(\"min: {}\".format(min(timespans)))\n",
    "print(\"max: {}\".format(max(timespans)))\n",
    "print(\"avg: {}\".format(np.mean(timespans)))\n",
    "\n",
    "plt.hist(timespans, 30)"
   ]
  },
  {
   "cell_type": "code",
   "execution_count": 48,
   "metadata": {},
   "outputs": [
    {
     "data": {
      "text/plain": [
       "24"
      ]
     },
     "execution_count": 48,
     "metadata": {},
     "output_type": "execute_result"
    }
   ],
   "source": [
    "bellow_200 = []\n",
    "for timespan in timespans:\n",
    "    if timespan < 200:\n",
    "        bellow_200.append(timespan)\n",
    "\n",
    "len(bellow_200)"
   ]
  },
  {
   "cell_type": "code",
   "execution_count": null,
   "metadata": {},
   "outputs": [],
   "source": []
  }
 ],
 "metadata": {
  "interpreter": {
   "hash": "4680a687c0b493607a5a84d99aa6299372553ac8fbb569a372de15fbb66a08e8"
  },
  "kernelspec": {
   "display_name": "Python 3.9.7 ('tf')",
   "language": "python",
   "name": "python3"
  },
  "language_info": {
   "codemirror_mode": {
    "name": "ipython",
    "version": 3
   },
   "file_extension": ".py",
   "mimetype": "text/x-python",
   "name": "python",
   "nbconvert_exporter": "python",
   "pygments_lexer": "ipython3",
   "version": "3.9.7"
  },
  "orig_nbformat": 4
 },
 "nbformat": 4,
 "nbformat_minor": 2
}
