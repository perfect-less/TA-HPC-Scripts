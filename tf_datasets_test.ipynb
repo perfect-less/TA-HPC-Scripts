{
 "cells": [
  {
   "cell_type": "code",
   "execution_count": 46,
   "metadata": {},
   "outputs": [],
   "source": [
    "import os\n",
    "import math\n",
    "\n",
    "import numpy as np\n",
    "import pandas as pd\n",
    "import matplotlib.pyplot as plt\n",
    "\n",
    "import tensorflow as tf\n",
    "from tensorflow.python.keras.api import keras\n",
    "from tensorflow.keras.utils import timeseries_dataset_from_array\n",
    "\n",
    "from hpcscripts.sharedutils.trainingutils import LoadModel, SetLowTFVerbose, MakeSinglePrediction\n",
    "from hpcscripts.sharedutils.nomalization import DF_Nomalize, denorm\n",
    "from hpcscripts.sharedutils.modelutils import SelectModelPrompt\n",
    "from hpcscripts.option import pathhandler as ph\n",
    "from hpcscripts.option import globalparams as G_PARAMS\n",
    "\n",
    "SetLowTFVerbose()"
   ]
  },
  {
   "cell_type": "markdown",
   "metadata": {},
   "source": [
    "### Import Data"
   ]
  },
  {
   "cell_type": "code",
   "execution_count": 59,
   "metadata": {},
   "outputs": [],
   "source": [
    "def get_file_list():\n",
    "    train_dir = ph.GetProcessedPath(\"Selected\")\n",
    "    test_dir  = ph.GetProcessedPath(\"Test\")\n",
    "\n",
    "    train_list = os.listdir(train_dir)\n",
    "    test_list  = os.listdir(test_dir)\n",
    "\n",
    "    for i, test_file in enumerate (test_list):\n",
    "        train_list.remove(test_file)\n",
    "        test_list[i] = os.path.join(test_dir, test_file)\n",
    "\n",
    "    for i, train_file in enumerate (train_list):\n",
    "        train_list[i] = os.path.join(train_dir, train_file)\n",
    "\n",
    "    print (\"Files found: \")\n",
    "    print (\"\\tTrain count: {}\".format(len(train_list)))\n",
    "    print (\"\\tTest count : {}\".format(len(test_list)))\n",
    "\n",
    "    # Slicing\n",
    "    print (\"\\nAfter Slicing: \")\n",
    "    # train_list = train_list[:3]\n",
    "    # test_list  = test_list[:3]\n",
    "\n",
    "    print (\"\\tTrain count: {}\".format(len(train_list)))\n",
    "    print (\"\\tTest count : {}\".format(len(test_list)))\n",
    "\n",
    "    return train_list, test_list"
   ]
  },
  {
   "cell_type": "code",
   "execution_count": 48,
   "metadata": {},
   "outputs": [
    {
     "name": "stdout",
     "output_type": "stream",
     "text": [
      "Files found: \n",
      "\tTrain count: 350\n",
      "\tTest count : 61\n",
      "\n",
      "After Slicing: \n",
      "\tTrain count: 350\n",
      "\tTest count : 3\n"
     ]
    }
   ],
   "source": [
    "train_list, test_list = get_file_list()"
   ]
  },
  {
   "cell_type": "markdown",
   "metadata": {},
   "source": [
    "### With Simple Function"
   ]
  },
  {
   "cell_type": "code",
   "execution_count": 49,
   "metadata": {},
   "outputs": [],
   "source": [
    "# Function Version\n",
    "\n",
    "from typing import List\n",
    "\n",
    "def to_datasets(files: List[str]):\n",
    "\n",
    "    np_data = []\n",
    "\n",
    "    for i, file in enumerate(files):\n",
    "        try:\n",
    "            data = pd.read_csv(file)\n",
    "            data = data.loc[:, \n",
    "                            [\"hralt_m\", \"theta_rad\", \"aoac_rad\", \"cas_mps\", \"elv_l_rad\"]\n",
    "                    ]\n",
    "        except:\n",
    "            raise Exception(\"Can't process {}\".format(file))\n",
    "\n",
    "        ds = timeseries_dataset_from_array(\n",
    "                    data.to_numpy(),\n",
    "                    targets=None,\n",
    "                    sequence_length=5,\n",
    "                    sequence_stride=1,\n",
    "                    batch_size=99999\n",
    "                )\n",
    "        \n",
    "        for elem in ds.take(1):\n",
    "            np_data.append(\n",
    "                    elem.numpy()\n",
    "                )\n",
    "            print (\"{}, i: {}\".format(elem.numpy().shape, i), end='\\r')\n",
    "    \n",
    "    print()\n",
    "    concated_np = np.concatenate(np_data)\n",
    "    return concated_np\n",
    "    # return tf.data.Dataset.from_tensor_slices(concated_np)\n"
   ]
  },
  {
   "cell_type": "code",
   "execution_count": 50,
   "metadata": {},
   "outputs": [
    {
     "name": "stdout",
     "output_type": "stream",
     "text": [
      "(397, 5, 5), i: 349\n",
      "108904\n"
     ]
    },
    {
     "data": {
      "text/plain": [
       "TensorSpec(shape=(32, 5, 5), dtype=tf.float64, name=None)"
      ]
     },
     "execution_count": 50,
     "metadata": {},
     "output_type": "execute_result"
    }
   ],
   "source": [
    "train_ds = to_datasets(train_list)\n",
    "\n",
    "# for elem in train_ds:\n",
    "#     print (elem)\n",
    "\n",
    "shuffle_size = train_ds.shape[0]\n",
    "print (shuffle_size)\n",
    "\n",
    "train_ds = tf.data.Dataset.from_tensor_slices(train_ds).shuffle(shuffle_size).batch(32, drop_remainder=True)\n",
    "train_ds.element_spec"
   ]
  },
  {
   "cell_type": "code",
   "execution_count": 51,
   "metadata": {},
   "outputs": [
    {
     "name": "stdout",
     "output_type": "stream",
     "text": [
      "(32, 5, 5), Count: 3403\n",
      "3403                                                                                                \n",
      "Total: 108896\n"
     ]
    }
   ],
   "source": [
    "count = 0\n",
    "for elem in train_ds:\n",
    "    count += 1\n",
    "    print (\"{}, Count: {}\".format(elem.shape, count), end='\\r')\n",
    "\n",
    "print ()\n",
    "print (str(count).ljust(100, \" \"))\n",
    "print (\"Total: {:.0f}\".format(count*32))"
   ]
  },
  {
   "cell_type": "markdown",
   "metadata": {},
   "source": [
    "### With WindowGenerator Class version"
   ]
  },
  {
   "cell_type": "code",
   "execution_count": 60,
   "metadata": {},
   "outputs": [
    {
     "name": "stdout",
     "output_type": "stream",
     "text": [
      "Files found: \n",
      "\tTrain count: 350\n",
      "\tTest count : 61\n",
      "\n",
      "After Slicing: \n",
      "\tTrain count: 350\n",
      "\tTest count : 61\n"
     ]
    }
   ],
   "source": [
    "## Get File List\n",
    "train_list, test_list = get_file_list()\n",
    "\n",
    "## Get Combined Train Files to calculate norm param\n",
    "COMBINEDDATA_DIR = \"Ready\"\n",
    "def ImportTrainingData():\n",
    "    train_file = os.path.join(ph.GetProcessedPath(COMBINEDDATA_DIR), \"Train_set.csv\")\n",
    "    test_file  = os.path.join(ph.GetProcessedPath(COMBINEDDATA_DIR), \"Test_set.csv\")\n",
    "    eval_file  = os.path.join(ph.GetProcessedPath(COMBINEDDATA_DIR), \"Eval_set.csv\")\n",
    "\n",
    "    train_data = pd.read_csv(train_file)\n",
    "    test_data  = pd.read_csv(test_file)\n",
    "    eval_data  = pd.read_csv(eval_file)\n",
    "\n",
    "    return train_data, test_data, eval_data\n",
    "\n",
    "train_data, test_data, eval_data = ImportTrainingData()\n",
    "train_data, norm_param = DF_Nomalize(train_data)"
   ]
  },
  {
   "cell_type": "code",
   "execution_count": 143,
   "metadata": {},
   "outputs": [],
   "source": [
    "# Definition for WindowGenerator are written based on tensorflow official\n",
    "# tutorial on:\n",
    "#        https://www.tensorflow.org/tutorials/structured_data/time_series\n",
    "# which licensed under Apache License, Version 2.0\n",
    "\n",
    "\n",
    "\n",
    "# Copyright 2019 The TensorFlow Authors\n",
    "\n",
    "#@title Licensed under the Apache License, Version 2.0 (the \"License\");\n",
    "# you may not use this file except in compliance with the License.\n",
    "# You may obtain a copy of the License at\n",
    "#\n",
    "# https://www.apache.org/licenses/LICENSE-2.0\n",
    "#\n",
    "# Unless required by applicable law or agreed to in writing, software\n",
    "# distributed under the License is distributed on an \"AS IS\" BASIS,\n",
    "# WITHOUT WARRANTIES OR CONDITIONS OF ANY KIND, either express or implied.\n",
    "# See the License for the specific language governing permissions and\n",
    "# limitations under the License.\n",
    "\n",
    "from typing import List\n",
    "\n",
    "class WindowGenerator():\n",
    "\n",
    "    USABLE_COLUMNS  = set (G_PARAMS.FEATURE_COLUMNS + G_PARAMS.SEQUENTIAL_LABELS)\n",
    "    FEATURE_COLUMNS = G_PARAMS.FEATURE_COLUMNS\n",
    "\n",
    "    def __init__(self, input_width:int, label_width:int=1, shift:int=1,\n",
    "                train_list=None, test_list=None, val_list=None,\n",
    "                label_columns=None,\n",
    "                norm_param:dict=None,\n",
    "                shuffle_train:bool=True,\n",
    "                print_check:bool=True):\n",
    "        # Store list of the data.\n",
    "        self.train_list = train_list\n",
    "        self.test_list = test_list\n",
    "        self.val_list = val_list\n",
    "\n",
    "        # Set params\n",
    "        self.shuffle_train = shuffle_train\n",
    "        self.norm_param = norm_param\n",
    "\n",
    "        # Work out the label column indices.\n",
    "        self.input_columns = self.FEATURE_COLUMNS\n",
    "        self.label_columns = label_columns\n",
    "        if label_columns is not None:\n",
    "            self.label_columns_indices = {name: i for i, name in enumerate(label_columns)}\n",
    "\n",
    "        self.column_indices = self.__get_column_indices()\n",
    "\n",
    "        # Work out the window parameters.\n",
    "        self.input_width = input_width\n",
    "        self.label_width = label_width\n",
    "        self.shift = shift\n",
    "\n",
    "        self.total_window_size = input_width + shift\n",
    "\n",
    "        self.input_slice = slice(0, input_width)\n",
    "        self.input_indices = np.arange(self.total_window_size)[self.input_slice]\n",
    "\n",
    "        self.label_start = self.total_window_size - self.label_width\n",
    "        self.labels_slice = slice(self.label_start, None)\n",
    "        self.label_indices = np.arange(self.total_window_size)[self.labels_slice]\n",
    "\n",
    "        # Check if there's missing parameters\n",
    "        if print_check:\n",
    "            self.check_params()\n",
    "\n",
    "    def __get_column_indices(self):\n",
    "        # Get 1 Sample DataFrame and use it to determine column indices\n",
    "        df = pd.read_csv(self.train_list[0])\n",
    "        return {name: i for i, name in enumerate(df.columns) if name in self.USABLE_COLUMNS}\n",
    "\n",
    "    def check_params(self):\n",
    "        print (\"train_list \\t {}\".format(\"Found\" if self.train_list != None else \"Missing\"))\n",
    "        print (\"test_list \\t {}\".format(\"Found\" if self.test_list != None else \"Missing\"))\n",
    "        print (\"val_list \\t {}\".format(\"Found\" if self.val_list != None else \"Missing\"))\n",
    "        print (\"label_columns \\t {}\".format(\"Found\" if self.label_columns != None else \"Missing\"))\n",
    "        print (\"norm_param \\t {}\".format(\"Found\" if self.norm_param != None else \"Missing\"))\n",
    "\n",
    "        print (\"\"\"\\nMissing norm_columns will cause data not to be normalized when creating datasets.\"\"\")\n",
    "\n",
    "\n",
    "    def split_window(self, features):\n",
    "        inputs = features[:, self.input_slice, :]\n",
    "        labels = features[:, self.labels_slice, :]\n",
    "        if self.input_columns is not None:\n",
    "            inputs = tf.stack(\n",
    "                            [inputs[:, :, self.column_indices[name]] for name in self.input_columns],\n",
    "                            axis=-1\n",
    "                    )\n",
    "        if self.label_columns is not None:\n",
    "            labels = tf.stack(\n",
    "                            [labels[:, :, self.column_indices[name]] for name in self.label_columns],\n",
    "                            axis=-1\n",
    "                    )\n",
    "\n",
    "        # Slicing doesn't preserve static shape information, so set the shapes\n",
    "        # manually. This way the `tf.data.Datasets` are easier to inspect.\n",
    "        inputs.set_shape([None, self.input_width, None])\n",
    "        labels.set_shape([None, self.label_width, None])\n",
    "\n",
    "        return inputs, labels\n",
    "    \n",
    "    def make_dataset(self, file_list: List[str], do_shuffle:bool = False, batch_size:int=32):\n",
    "        np_data = []\n",
    "        for file in file_list:\n",
    "            try:\n",
    "                data = pd.read_csv(file)\n",
    "                #\n",
    "                # PREPROCESS HERE, \n",
    "                if not self.norm_param == None:\n",
    "                    data = DF_Nomalize(data, self.norm_param)\n",
    "                # NORMALIZATION, ETC.\n",
    "            except:\n",
    "                raise Exception(\"Can't process {}\".format(file))\n",
    "\n",
    "            ds = timeseries_dataset_from_array(\n",
    "                        data=data.to_numpy(),\n",
    "                        targets=None,\n",
    "                        sequence_length=self.total_window_size,\n",
    "                        sequence_stride=1,\n",
    "                        batch_size=99999\n",
    "                    )\n",
    "            \n",
    "            for elem in ds.take(1):\n",
    "                np_data.append(\n",
    "                        elem.numpy()\n",
    "                    )\n",
    "        \n",
    "        concated_np = np.concatenate(np_data)\n",
    "        buffer_size = concated_np.shape[0]\n",
    "\n",
    "        if do_shuffle:\n",
    "            ds = tf.data.Dataset.from_tensor_slices(concated_np).shuffle(buffer_size)\n",
    "        else:\n",
    "            ds = tf.data.Dataset.from_tensor_slices(concated_np)\n",
    "\n",
    "        _batch_size = buffer_size\n",
    "        if not batch_size == None:\n",
    "            _batch_size = batch_size\n",
    "            \n",
    "        ds = ds.batch(_batch_size, drop_remainder=True)\n",
    "        ds = ds.map(self.split_window)\n",
    "\n",
    "        return ds\n",
    "\n",
    "    def __repr__(self):\n",
    "        return '\\n'.join([\n",
    "            f'Total window size: {self.total_window_size}',\n",
    "            f'Input indices: {self.input_indices}',\n",
    "            f'Label indices: {self.label_indices}',\n",
    "            f'Label column name(s): {self.label_columns}'])\n",
    "\n",
    "    @property\n",
    "    def train(self):\n",
    "        return self.make_dataset(self.train_list, self.shuffle_train)\n",
    "\n",
    "    @property\n",
    "    def val(self):\n",
    "        return self.make_dataset(self.val_list)\n",
    "\n",
    "    @property\n",
    "    def test(self):\n",
    "        return self.make_dataset(self.test_list)\n",
    "\n",
    "    @property\n",
    "    def example(self):\n",
    "        \"\"\"Get and cache an example batch of `inputs, labels` for plotting.\"\"\"\n",
    "        result = getattr(self, '_example', None)\n",
    "        if result is None:\n",
    "            # No example batch was found, so get one from the `.train` dataset\n",
    "            result = next(iter(self.train))\n",
    "            # And cache it for next time\n",
    "            self._example = result\n",
    "        return result"
   ]
  },
  {
   "cell_type": "code",
   "execution_count": 94,
   "metadata": {},
   "outputs": [
    {
     "data": {
      "text/plain": [
       "Total window size: 1\n",
       "Input indices: [0]\n",
       "Label indices: [0]\n",
       "Label column name(s): ['elv_l_rad', 'theta_rad']"
      ]
     },
     "execution_count": 94,
     "metadata": {},
     "output_type": "execute_result"
    }
   ],
   "source": [
    "w1 = WindowGenerator(\n",
    "                    input_width=1, shift=0,\n",
    "                    train_list=train_list,\n",
    "                    val_list=test_list,\n",
    "                    norm_param=norm_param,\n",
    "                    label_columns=[\"elv_l_rad\", \"theta_rad\"],\n",
    "                    shuffle_train=False,\n",
    "                    print_check=False\n",
    "                )\n",
    "w1"
   ]
  },
  {
   "cell_type": "code",
   "execution_count": 95,
   "metadata": {},
   "outputs": [
    {
     "name": "stdout",
     "output_type": "stream",
     "text": [
      "train_list \t Found\n",
      "test_list \t Missing\n",
      "val_list \t Found\n",
      "label_columns \t Found\n",
      "norm_param \t Found\n",
      "\n",
      "Missing norm_columns will cause data not to be normalized when creating datasets.\n"
     ]
    }
   ],
   "source": [
    "w1.check_params()"
   ]
  },
  {
   "cell_type": "code",
   "execution_count": 64,
   "metadata": {},
   "outputs": [],
   "source": [
    "# train_ds = w1.train"
   ]
  },
  {
   "cell_type": "markdown",
   "metadata": {},
   "source": [
    "Check wether it's the datasets and manual process have the same results or not"
   ]
  },
  {
   "cell_type": "code",
   "execution_count": 57,
   "metadata": {},
   "outputs": [
    {
     "name": "stdout",
     "output_type": "stream",
     "text": [
      "Inputs shape (batch, time, features): (32, 1, 4)\n",
      "Labels shape (batch, time, features): (32, 1, 2)\n",
      "tf.Tensor([[0.94019011 1.35636893 1.18616038 1.2749389 ]], shape=(1, 4), dtype=float64)\n",
      "tf.Tensor([[0.08291782 1.35636893]], shape=(1, 2), dtype=float64)\n",
      "\n",
      "From Manual Processing:\n"
     ]
    },
    {
     "data": {
      "text/html": [
       "<div>\n",
       "<style scoped>\n",
       "    .dataframe tbody tr th:only-of-type {\n",
       "        vertical-align: middle;\n",
       "    }\n",
       "\n",
       "    .dataframe tbody tr th {\n",
       "        vertical-align: top;\n",
       "    }\n",
       "\n",
       "    .dataframe thead th {\n",
       "        text-align: right;\n",
       "    }\n",
       "</style>\n",
       "<table border=\"1\" class=\"dataframe\">\n",
       "  <thead>\n",
       "    <tr style=\"text-align: right;\">\n",
       "      <th></th>\n",
       "      <th>hralt_m</th>\n",
       "      <th>aoac_rad</th>\n",
       "      <th>cas_mps</th>\n",
       "      <th>elv_l_rad</th>\n",
       "      <th>theta_rad</th>\n",
       "    </tr>\n",
       "  </thead>\n",
       "  <tbody>\n",
       "    <tr>\n",
       "      <th>0</th>\n",
       "      <td>0.940190</td>\n",
       "      <td>1.186160</td>\n",
       "      <td>1.274939</td>\n",
       "      <td>0.082918</td>\n",
       "      <td>1.356369</td>\n",
       "    </tr>\n",
       "    <tr>\n",
       "      <th>1</th>\n",
       "      <td>0.943212</td>\n",
       "      <td>1.079478</td>\n",
       "      <td>1.269368</td>\n",
       "      <td>0.057060</td>\n",
       "      <td>1.277792</td>\n",
       "    </tr>\n",
       "    <tr>\n",
       "      <th>2</th>\n",
       "      <td>0.941701</td>\n",
       "      <td>1.094718</td>\n",
       "      <td>1.255442</td>\n",
       "      <td>0.108777</td>\n",
       "      <td>1.211305</td>\n",
       "    </tr>\n",
       "    <tr>\n",
       "      <th>3</th>\n",
       "      <td>0.911481</td>\n",
       "      <td>1.003276</td>\n",
       "      <td>1.263798</td>\n",
       "      <td>0.160494</td>\n",
       "      <td>1.199216</td>\n",
       "    </tr>\n",
       "    <tr>\n",
       "      <th>4</th>\n",
       "      <td>0.912992</td>\n",
       "      <td>1.262362</td>\n",
       "      <td>1.269368</td>\n",
       "      <td>0.186353</td>\n",
       "      <td>1.205261</td>\n",
       "    </tr>\n",
       "  </tbody>\n",
       "</table>\n",
       "</div>"
      ],
      "text/plain": [
       "    hralt_m  aoac_rad   cas_mps  elv_l_rad  theta_rad\n",
       "0  0.940190  1.186160  1.274939   0.082918   1.356369\n",
       "1  0.943212  1.079478  1.269368   0.057060   1.277792\n",
       "2  0.941701  1.094718  1.255442   0.108777   1.211305\n",
       "3  0.911481  1.003276  1.263798   0.160494   1.199216\n",
       "4  0.912992  1.262362  1.269368   0.186353   1.205261"
      ]
     },
     "execution_count": 57,
     "metadata": {},
     "output_type": "execute_result"
    }
   ],
   "source": [
    "# Datasets\n",
    "for example_inputs, example_labels in train_ds.take(1):\n",
    "    print(f'Inputs shape (batch, time, features): {example_inputs.shape}')\n",
    "    print(f'Labels shape (batch, time, features): {example_labels.shape}')\n",
    "\n",
    "    print (example_inputs[0, :, :])\n",
    "    print (example_labels[0, :, :])\n",
    "\n",
    "# Manual\n",
    "_df = pd.read_csv(train_list[0])\n",
    "_df = DF_Nomalize(_df, norm_param)\n",
    "_df = _df.loc[:, w1.USABLE_COLUMNS]\n",
    "\n",
    "print (\"\\nFrom Manual Processing:\")\n",
    "_df.head()"
   ]
  },
  {
   "cell_type": "markdown",
   "metadata": {},
   "source": [
    "### Train Test"
   ]
  },
  {
   "cell_type": "code",
   "execution_count": 210,
   "metadata": {},
   "outputs": [],
   "source": [
    "window = WindowGenerator(\n",
    "                    input_width=10, shift=0,\n",
    "                    train_list=train_list,\n",
    "                    val_list=test_list,\n",
    "                    norm_param=norm_param,\n",
    "                    label_columns=[\"elv_l_rad\"],\n",
    "                    shuffle_train=True,\n",
    "                    print_check=False\n",
    "                )\n",
    "\n",
    "train_ds = window.train\n",
    "val_ds   = window.val"
   ]
  },
  {
   "cell_type": "code",
   "execution_count": 211,
   "metadata": {},
   "outputs": [
    {
     "name": "stdout",
     "output_type": "stream",
     "text": [
      "Inputs shape (batch, time, features): (32, 10, 4)\n",
      "Labels shape (batch, time, features): (32, 1, 1)\n",
      "tf.Tensor(\n",
      "[[ 0.45968395  1.00579867  1.03375683  1.27772421]\n",
      " [ 0.44608472  0.99370969  0.91183665  1.25265635]\n",
      " [ 0.43701857  0.97557727  0.91183665  1.22201786]\n",
      " [ 0.43248549  0.87282408  0.62226992  1.2136619 ]\n",
      " [ 0.41586421  0.68545012  0.34794619  1.18023809]\n",
      " [ 0.40226498  0.46181028  0.13458387  1.21087659]\n",
      " [ 0.3856437   0.25025941 -0.21594163  1.15238491]\n",
      " [ 0.37204447  0.05079752 -0.47502765  1.0576841 ]\n",
      " [ 0.37204447 -0.15470886 -0.56646978  1.07439601]\n",
      " [ 0.36297831 -0.45088049 -0.93223563  1.03818688]], shape=(10, 4), dtype=float64)\n",
      "tf.Tensor([[-1.27897142]], shape=(1, 1), dtype=float64)\n"
     ]
    }
   ],
   "source": [
    "# Datasets\n",
    "for example_inputs, example_labels in train_ds.take(1):\n",
    "    print(f'Inputs shape (batch, time, features): {example_inputs.shape}')\n",
    "    print(f'Labels shape (batch, time, features): {example_labels.shape}')\n",
    "\n",
    "    print (example_inputs[0, :, :])\n",
    "    print (example_labels[0, :, :])"
   ]
  },
  {
   "cell_type": "code",
   "execution_count": 218,
   "metadata": {},
   "outputs": [
    {
     "name": "stdout",
     "output_type": "stream",
     "text": [
      "Epoch 1/20\n",
      "3348/3348 [==============================] - 10s 2ms/step - loss: 0.7945 - mean_absolute_error: 0.5819 - val_loss: 0.5302 - val_mean_absolute_error: 0.4613\n",
      "Epoch 2/20\n",
      "3348/3348 [==============================] - 8s 2ms/step - loss: 0.7829 - mean_absolute_error: 0.5741 - val_loss: 0.5001 - val_mean_absolute_error: 0.4452\n",
      "Epoch 3/20\n",
      "3348/3348 [==============================] - 7s 2ms/step - loss: 0.7773 - mean_absolute_error: 0.5722 - val_loss: 0.5350 - val_mean_absolute_error: 0.4649\n",
      "Epoch 4/20\n",
      "3348/3348 [==============================] - 7s 2ms/step - loss: 0.7744 - mean_absolute_error: 0.5710 - val_loss: 0.5383 - val_mean_absolute_error: 0.4600\n"
     ]
    }
   ],
   "source": [
    "MAX_EPOCHS = 20\n",
    "\n",
    "def compile_and_fit(model, train_ds, val_ds, patience=2):\n",
    "    early_stopping = tf.keras.callbacks.EarlyStopping(monitor='val_loss',\n",
    "                                                        patience=patience,\n",
    "                                                        mode='min')\n",
    "\n",
    "    model.compile(loss=tf.losses.MeanSquaredError(),\n",
    "                    optimizer=tf.optimizers.Adam(),\n",
    "                    metrics=[tf.metrics.MeanAbsoluteError()])\n",
    "\n",
    "    history = model.fit(train_ds, epochs=MAX_EPOCHS,\n",
    "                        validation_data=val_ds,\n",
    "                        callbacks=[early_stopping])\n",
    "    return history\n",
    "\n",
    "linear = tf.keras.Sequential([\n",
    "    tf.keras.layers.Conv1D(filters=32,\n",
    "                           kernel_size=(10,),\n",
    "                           activation='relu'),\n",
    "    tf.keras.layers.Dense(units=1)\n",
    "])\n",
    "\n",
    "\n",
    "history = compile_and_fit(linear, train_ds, val_ds)"
   ]
  },
  {
   "cell_type": "code",
   "execution_count": 219,
   "metadata": {},
   "outputs": [
    {
     "name": "stdout",
     "output_type": "stream",
     "text": [
      "(414, 10, 4)\n",
      "(414, 1, 1)\n"
     ]
    },
    {
     "data": {
      "text/plain": [
       "(423, 59)"
      ]
     },
     "execution_count": 219,
     "metadata": {},
     "output_type": "execute_result"
    }
   ],
   "source": [
    "filename = test_list[15]\n",
    "ds = window.make_dataset([filename], batch_size=None)\n",
    "# for feature, labels in ds.take(1):\n",
    "#     print (feature)\n",
    "#     print (labels)\n",
    "features, labels = next(iter(ds))\n",
    "\n",
    "result = linear.predict(features)\n",
    "print (features.shape)\n",
    "print (result.shape)\n",
    "\n",
    "pd.read_csv(filename).shape"
   ]
  },
  {
   "cell_type": "code",
   "execution_count": 220,
   "metadata": {},
   "outputs": [
    {
     "data": {
      "image/png": "[encoded data removed]",
      "text/plain": [
       "<Figure size 432x288 with 1 Axes>"
      ]
     },
     "metadata": {
      "needs_background": "light"
     },
     "output_type": "display_data"
    }
   ],
   "source": [
    "import matplotlib.pyplot as plt\n",
    "\n",
    "x_num = result.shape[0]\n",
    "index = [a for a in range(x_num)]\n",
    "\n",
    "plt.plot(index, result.reshape(x_num,))\n",
    "plt.plot(index, labels.numpy().reshape(x_num,))\n",
    "\n",
    "plt.show()"
   ]
  },
  {
   "cell_type": "code",
   "execution_count": null,
   "metadata": {},
   "outputs": [],
   "source": []
  },
  {
   "cell_type": "code",
   "execution_count": null,
   "metadata": {},
   "outputs": [],
   "source": []
  }
 ],
 "metadata": {
  "interpreter": {
   "hash": "4680a687c0b493607a5a84d99aa6299372553ac8fbb569a372de15fbb66a08e8"
  },
  "kernelspec": {
   "display_name": "Python 3.9.7 ('tf')",
   "language": "python",
   "name": "python3"
  },
  "language_info": {
   "codemirror_mode": {
    "name": "ipython",
    "version": 3
   },
   "file_extension": ".py",
   "mimetype": "text/x-python",
   "name": "python",
   "nbconvert_exporter": "python",
   "pygments_lexer": "ipython3",
   "version": "3.9.12"
  },
  "orig_nbformat": 4
 },
 "nbformat": 4,
 "nbformat_minor": 2
}
